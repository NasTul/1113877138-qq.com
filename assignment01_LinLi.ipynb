{
 "cells": [
  {
   "cell_type": "markdown",
   "metadata": {},
   "source": [
    "# Homework 1: Preprocessing and Text Classification"
   ]
  },
  {
   "cell_type": "markdown",
   "metadata": {},
   "source": [
    "Student Name: Lin Li\n",
    "\n",
    "Student ID: 964046"
   ]
  },
  {
   "cell_type": "markdown",
   "metadata": {},
   "source": [
    "# General Info\n",
    "\n",
    "<b>Due date</b>: Sunday, 5 Apr 2020 5pm\n",
    "\n",
    "<b>Submission method</b>: Canvas submission\n",
    "\n",
    "<b>Submission materials</b>: completed copy of this iPython notebook\n",
    "\n",
    "<b>Late submissions</b>: -20% per day (both week and weekend days counted)\n",
    "\n",
    "<b>Marks</b>: 10% of mark for class (with 9% on correctness + 1% on quality and efficiency of your code)\n",
    "\n",
    "<b>Materials</b>: See [Using Jupyter Notebook and Python page](https://canvas.lms.unimelb.edu.au/courses/17601/pages/using-jupyter-notebook-and-python?module_item_id=1678430) on Canvas (under Modules>Resources) for information on the basic setup required for this class, including an iPython notebook viewer and the python packages NLTK, Numpy, Scipy, Matplotlib, Scikit-Learn, and Gensim. In particular, if you are not using a lab computer which already has it installed, we recommend installing all the data for NLTK, since you will need various parts of it to complete this assignment. You can also use any Python built-in packages, but do not use any other 3rd party packages (the packages listed above are all fine to use); if your iPython notebook doesn't run on the marker's machine, you will lose marks. <b> You should use Python 3</b>.  \n",
    "\n",
    "To familiarize yourself with NLTK, here is a free online book:  Steven Bird, Ewan Klein, and Edward Loper (2009). <a href=http://nltk.org/book>Natural Language Processing with Python</a>. O'Reilly Media Inc. You may also consult the <a href=https://www.nltk.org/api/nltk.html>NLTK API</a>.\n",
    "\n",
    "<b>Evaluation</b>: Your iPython notebook should run end-to-end without any errors in a reasonable amount of time, and you must follow all instructions provided below, including specific implementation requirements and instructions for what needs to be printed (please avoid printing output we don't ask for). You should edit the sections below where requested, but leave the rest of the code as is. You should leave the output from running your code in the iPython notebook you submit, to assist with marking. The amount each section is worth is given in parenthesis after the instructions. \n",
    "\n",
    "You will be marked not only on the correctness of your methods, but also the quality and efficency of your code: in particular, you should be careful to use Python built-in functions and operators when appropriate and pick descriptive variable names that adhere to <a href=\"https://www.python.org/dev/peps/pep-0008/\">Python style requirements</a>. If you think it might be unclear what you are doing, you should comment your code to help the marker make sense of it.\n",
    "\n",
    "<b>Updates</b>: Any major changes to the assignment will be announced via Canvas. Minor changes and clarifications will be announced on the discussion board; we recommend you check it regularly.\n",
    "\n",
    "<b>Academic misconduct</b>: For most people, collaboration will form a natural part of the undertaking of this homework, and we encourge you to discuss it in general terms with other students. However, this ultimately is still an individual task, and so reuse of code or other instances of clear influence will be considered cheating. We will be checking submissions for originality and will invoke the University’s <a href=\"http://academichonesty.unimelb.edu.au/policy.html\">Academic Misconduct policy</a> where inappropriate levels of collusion or plagiarism are deemed to have taken place."
   ]
  },
  {
   "cell_type": "markdown",
   "metadata": {},
   "source": [
    "# Overview\n",
    "\n",
    "In this homework, you'll be working with a collection tweets. The task is to classify whether a tweet constitutes a rumour event. This homework involves writing code to preprocess data and perform text classification."
   ]
  },
  {
   "cell_type": "markdown",
   "metadata": {},
   "source": [
    "# 1. Preprocessing (5 marks)"
   ]
  },
  {
   "cell_type": "markdown",
   "metadata": {},
   "source": [
    "**Instructions**: Run the code below to download the tweet corpus for the assignment. Note: the download may take some time. **No implementation is needed.**"
   ]
  },
  {
   "cell_type": "code",
   "execution_count": 1,
   "metadata": {},
   "outputs": [
    {
     "name": "stdout",
     "output_type": "stream",
     "text": [
      "Done. File downloaded: rumour-data.tgz\n"
     ]
    }
   ],
   "source": [
    "import requests\n",
    "import os\n",
    "from pathlib import Path\n",
    "\n",
    "fname = 'rumour-data.tgz'\n",
    "data_dir = os.path.splitext(fname)[0] #'rumour-data'\n",
    "\n",
    "my_file = Path(fname)\n",
    "if not my_file.is_file():\n",
    "    url = \"https://github.com/jhlau/jhlau.github.io/blob/master/files/rumour-data.tgz?raw=true\"\n",
    "    r = requests.get(url)\n",
    "\n",
    "    #Save to the current directory\n",
    "    with open(fname, 'wb') as f:\n",
    "        f.write(r.content)\n",
    "        \n",
    "print(\"Done. File downloaded:\", my_file)\n"
   ]
  },
  {
   "cell_type": "markdown",
   "metadata": {},
   "source": [
    "**Instructions**: Run the code to extract the zip file. Note: the extraction may take a minute or two. **No implementation is needed.**"
   ]
  },
  {
   "cell_type": "code",
   "execution_count": 2,
   "metadata": {},
   "outputs": [
    {
     "name": "stdout",
     "output_type": "stream",
     "text": [
      "Extraction done.\n"
     ]
    }
   ],
   "source": [
    "import tarfile\n",
    "\n",
    "#decompress rumour-data.tgz\n",
    "tar = tarfile.open(fname, \"r:gz\")\n",
    "tar.extractall()\n",
    "tar.close()\n",
    "\n",
    "#remove superfluous files (e.g. .DS_store)\n",
    "extra_files = []\n",
    "for r, d, f in os.walk(data_dir):\n",
    "    for file in f:\n",
    "        if (file.startswith(\".\")):\n",
    "            extra_files.append(os.path.join(r, file))\n",
    "for f in extra_files:\n",
    "    os.remove(f)\n",
    "\n",
    "print(\"Extraction done.\")"
   ]
  },
  {
   "cell_type": "markdown",
   "metadata": {},
   "source": [
    "### Question 1 (1.0 mark)\n",
    "\n",
    "**Instructions**: The corpus data is in the *rumour-data* folder. It contains 2 sub-folders: *non-rumours* and *rumours*. As the names suggest, *rumours* contains all rumour-propagating tweets, while *non-rumours* has normal tweets. Within  *rumours* and *non-rumours*, you'll find some sub-folders, each named with an ID. Each of these IDs constitutes an 'event', where an event is defined as consisting a **source tweet** and its **reactions**.\n",
    "\n",
    "An illustration of the folder structure is given below:\n",
    "\n",
    "    rumour-data\n",
    "        - rumours\n",
    "            - 498254340310966273\n",
    "                - reactions\n",
    "                    - 498254340310966273.json\n",
    "                    - 498260814487642112.json\n",
    "                - source-tweet\n",
    "                    - 498254340310966273.json\n",
    "        - non-rumours\n",
    "\n",
    "Now we need to gather the tweet messages for rumours and non-rumour events. As the individual tweets are stored in json format, we need to use a json parser to parse and collect the actual tweet message. The function `get_tweet_text_from_json(file_path)` is provided to do that.\n",
    "\n",
    "**Task**: Complete the `get_events(event_dir)` function. The function should return **a list of events** for a particular class of tweets (e.g. rumours), and each event should contain the source tweet message and all reaction tweet messages.\n",
    "\n",
    "**Check**: Use the assertion statements in *\"For your testing\"* below for the expected output."
   ]
  },
  {
   "cell_type": "code",
   "execution_count": 3,
   "metadata": {},
   "outputs": [
    {
     "name": "stdout",
     "output_type": "stream",
     "text": [
      "Number of rumour events = 500\n",
      "Number of non-rumour events = 1000\n"
     ]
    }
   ],
   "source": [
    "import json\n",
    "\n",
    "def get_tweet_text_from_json(file_path):\n",
    "    with open(file_path) as json_file:\n",
    "        data = json.load(json_file)\n",
    "        return data[\"text\"]\n",
    "    \n",
    "def get_events(event_dir):\n",
    "    \n",
    "    \n",
    "\n",
    "    event_list = []\n",
    "    for event in sorted(os.listdir(event_dir)):\n",
    "        ###\n",
    "        # Your answer BEGINS HERE\n",
    "        ###\n",
    "        sub_event = []\n",
    "        reactions_dir = event_dir+\"/\"+event+\"/reactions/\"\n",
    "        source_tweet_dir = event_dir+\"/\"+event+\"/source-tweet/\"\n",
    "        \n",
    "        #Extract the file information from the reactions and source-tweet folders to event_list.\n",
    "        for reaction_file in os.listdir(reactions_dir):\n",
    "            file_path = reactions_dir+reaction_file\n",
    "            text = get_tweet_text_from_json(file_path)\n",
    "            sub_event.append(text)\n",
    "        for source_tweet_file in os.listdir(source_tweet_dir):\n",
    "            file_path = source_tweet_dir+source_tweet_file\n",
    "            text = get_tweet_text_from_json(file_path)\n",
    "            sub_event.append(text)\n",
    "        event_list.append(sub_event)\n",
    "        \n",
    "\n",
    "        ###\n",
    "        # Your answer ENDS HERE\n",
    "        ###\n",
    "\n",
    "        \n",
    "    return event_list\n",
    "    \n",
    "#a list of events, and each event is a list of tweets (source tweet + reactions)    \n",
    "rumour_events = get_events(os.path.join(data_dir, \"rumours\"))\n",
    "nonrumour_events = get_events(os.path.join(data_dir, \"non-rumours\"))\n",
    "\n",
    "print(\"Number of rumour events =\", len(rumour_events))\n",
    "print(\"Number of non-rumour events =\", len(nonrumour_events))"
   ]
  },
  {
   "cell_type": "markdown",
   "metadata": {},
   "source": [
    "**For your testing:**"
   ]
  },
  {
   "cell_type": "code",
   "execution_count": 4,
   "metadata": {},
   "outputs": [],
   "source": [
    "assert(len(rumour_events) == 500)\n",
    "assert(len(nonrumour_events) == 1000)"
   ]
  },
  {
   "cell_type": "markdown",
   "metadata": {},
   "source": [
    "### Question 2 (1.0 mark)\n",
    "\n",
    "**Instructions**: Next we need to preprocess the collected tweets to create a bag-of-words representation. The preprocessing steps required here are: (1) tokenize each tweet into individual word tokens (using NLTK `TweetTokenizer`); and (2) remove stopwords (based on NLTK `stopwords`).\n",
    "\n",
    "**Task**: Complete the `preprocess_events(event)` function. The function takes **a list of events** as input, and returns **a list of preprocessed events**. Each preprocessed event should have a dictionary of words and frequencies.\n",
    "\n",
    "**Check**: Use the assertion statements in *\"For your testing\"* below for the expected output."
   ]
  },
  {
   "cell_type": "code",
   "execution_count": 5,
   "metadata": {},
   "outputs": [
    {
     "name": "stdout",
     "output_type": "stream",
     "text": [
      "Number of preprocessed rumour events = 500\n",
      "Number of preprocessed non-rumour events = 1000\n"
     ]
    }
   ],
   "source": [
    "import nltk\n",
    "from nltk.tokenize import TweetTokenizer\n",
    "from nltk.corpus import stopwords\n",
    "from collections import defaultdict\n",
    "\n",
    "tt = TweetTokenizer()\n",
    "stopwords = set(stopwords.words('english'))\n",
    "\n",
    "\n",
    "def preprocess_events(events):\n",
    "    ###\n",
    "    # Your answer BEGINS HERE\n",
    "    ###\n",
    "    preprocess_events=[]\n",
    "    \n",
    "    #Extract the token, from each event and count the number of each token\n",
    "    for event in events:\n",
    "        token_word_dct=defaultdict(int)\n",
    "        for sentence in event:\n",
    "            for token_word in tt.tokenize(sentence):\n",
    "                #some words like \"The\" not in stopwords, but \"the\" is in, so use fuction lower().\n",
    "                if token_word.lower() not in stopwords:\n",
    "                    token_word_dct[token_word]+=1\n",
    "        \n",
    "        preprocess_events.append(token_word_dct)\n",
    "        \n",
    "    return preprocess_events\n",
    "    \n",
    "    \n",
    "    \n",
    "    ###\n",
    "    # Your answer ENDS HERE\n",
    "    ###\n",
    "\n",
    "preprocessed_rumour_events = preprocess_events(rumour_events)\n",
    "preprocessed_nonrumour_events = preprocess_events(nonrumour_events)\n",
    "\n",
    "print(\"Number of preprocessed rumour events =\", len(preprocessed_rumour_events))\n",
    "print(\"Number of preprocessed non-rumour events =\", len(preprocessed_nonrumour_events))"
   ]
  },
  {
   "cell_type": "markdown",
   "metadata": {},
   "source": [
    "**For your testing**:"
   ]
  },
  {
   "cell_type": "code",
   "execution_count": 6,
   "metadata": {},
   "outputs": [],
   "source": [
    "assert(len(preprocessed_rumour_events) == 500)\n",
    "assert(len(preprocessed_nonrumour_events) == 1000)"
   ]
  },
  {
   "cell_type": "markdown",
   "metadata": {},
   "source": [
    "**Instructions**: Hashtags (i.e. topic tags which start with #) pose an interesting tokenisation problem because they often include multiple words written without spaces or capitalization. Run the code below to collect all unique hashtags in the preprocessed data. **No implementation is needed.**\n",
    "\n"
   ]
  },
  {
   "cell_type": "code",
   "execution_count": 7,
   "metadata": {},
   "outputs": [
    {
     "name": "stdout",
     "output_type": "stream",
     "text": [
      "Number of hashtags = 1829\n"
     ]
    }
   ],
   "source": [
    "def get_all_hashtags(events):\n",
    "    hashtags = set([])\n",
    "    for event in events:\n",
    "        for word, frequency in event.items():\n",
    "            if word.startswith(\"#\"):\n",
    "                hashtags.add(word)\n",
    "    return hashtags\n",
    "\n",
    "hashtags = get_all_hashtags(preprocessed_rumour_events + preprocessed_nonrumour_events)\n",
    "print(\"Number of hashtags =\", len(hashtags))"
   ]
  },
  {
   "cell_type": "markdown",
   "metadata": {},
   "source": [
    "### Question 3 (2.0 mark)\n",
    "\n",
    "**Instructions**: Our task here to tokenize the hashtags, by implementing a reversed version of the MaxMatch algorithm discussed in class, where matching begins at the end of the hashtag and progresses backwards. NLTK has a list of words that you can use for matching, see starter code below. Be careful about efficiency with respect to doing word lookups. One extra challenge you have to deal with is that the provided list of words includes only lemmas: your MaxMatch algorithm should match inflected forms by converting them into lemmas using the NLTK lemmatizer before matching. When lemmatising a word, you also need to provide the part-of-speech tag of the word. You should use `nltk.tag.pos_tag` for doing part-of-speech tagging.\n",
    "\n",
    "Note that the list of words is incomplete, and, if you are unable to make any longer match, your code should default to matching a single letter. Create a new list of tokenized hashtags (this should be a list of lists of strings) and use slicing to print out the last 20 hashtags in the list.\n",
    "\n",
    "For example, given \"#speakup\", the algorithm should produce: \\[\"#\", \"speak\", \"up\"\\]. And note that you do not need to delete the hashtag symbol (\"#\") from the tokenised outputs.\n",
    "\n",
    "**Task**: Complete the `tokenize_hashtags(hashtags)` function by implementing a reversed MaxMatch algorithm. The function takes as input **a set of hashtags**, and returns **a dictionary** where key=\"hashtag\" and value=\"a list of word tokens\".\n",
    "\n",
    "**Check**: Use the assertion statements in *\"For your testing\"* below for the expected output."
   ]
  },
  {
   "cell_type": "code",
   "execution_count": 8,
   "metadata": {},
   "outputs": [
    {
     "name": "stdout",
     "output_type": "stream",
     "text": [
      "[('#class', ['#', 'class']), ('#bigbanks', ['#', 'big', 'banks']), ('#confused', ['#', 'confused']), ('#endreligionnow', ['#', 'end', 'religion', 'now']), ('#SpeakUP', ['#', 'Speak', 'UP']), ('#bbc', ['#', 'b', 'b', 'c']), ('#nomoreviolence', ['#', 'no', 'more', 'violence']), ('#filthy', ['#', 'filthy']), ('#Cop', ['#', 'Cop']), ('#Koran', ['#', 'Koran']), ('#MediaWatch', ['#', 'Me', 'di', 'aWatch']), ('#FergusonTruthers', ['#', 'Ferguson', 'T', 'rut', 'hers']), ('#SayNoToIslamophobia', ['#', 'Say', 'No', 'ToI', 'sla', 'moph', 'obi', 'a']), (\"#Erdoğan's\", ['#', 'Er', 'do', 'ğ', 'an', \"'\", 's']), ('#Lunacy', ['#', 'Lunacy']), ('#sick', ['#', 'sick']), ('#snipertime', ['#', 'sniper', 'time']), ('#AlQaida', ['#', 'Al', 'Q', 'a', 'ida']), ('#bogus', ['#', 'bogus']), ('#aweshit', ['#', 'awes', 'hit'])]\n"
     ]
    }
   ],
   "source": [
    "from nltk.corpus import wordnet\n",
    "# from time import *\n",
    "# begin_time = time()\n",
    "\n",
    "lemmatizer = nltk.stem.wordnet.WordNetLemmatizer()\n",
    "\n",
    "#a list of words provided by NLTK\n",
    "words = set(nltk.corpus.words.words()) \n",
    "\n",
    "#Change the word list to lowercase\n",
    "lower_words = set([word.lower()  for word in words ]) \n",
    "\n",
    "from nltk.corpus import wordnet\n",
    "\n",
    "#Since WordNetLemmatizer cannot use 'nltk.tag.pos_tag' directly, the output tag needs to be converted\n",
    "def get_wordnet_pos(word):\n",
    "    tag = nltk.pos_tag([word])[0][1][0].upper()\n",
    "    tag_dict = {\"J\": wordnet.ADJ,\n",
    "                \"N\": wordnet.NOUN,\n",
    "                \"V\": wordnet.VERB,\n",
    "                \"R\": wordnet.ADV}\n",
    "\n",
    "    return tag_dict.get(tag, wordnet.NOUN)\n",
    "\n",
    "\n",
    "\n",
    "def tokenize_hashtags(hashtags):\n",
    "    ###\n",
    "    # Your answer BEGINS HERE\n",
    "    ###\n",
    "    # a reversed version of the MaxMatch algorithm \n",
    "    hashtags_dic = dict()\n",
    "    #Go through every hashtags\n",
    "    for item in hashtags:\n",
    "        temp_item = item\n",
    "        position=0\n",
    "        max_match=[]\n",
    "        while len(item) > position:\n",
    "            #Perform lexical restoration on the input string\n",
    "            find_item = str(item[position:])\n",
    "            word=lemmatizer.lemmatize(find_item, pos = get_wordnet_pos(find_item)) \n",
    "            word = word.lower()\n",
    "            \n",
    "            if word in lower_words:\n",
    "                max_match.append(item[position:])\n",
    "                item=item[:position]\n",
    "                position = 0\n",
    "            elif len(item[position:]) == 1:\n",
    "                \n",
    "                max_match.append(item[position:])\n",
    "                item=item[:position]\n",
    "                position = 0\n",
    "\n",
    "            else:\n",
    "                #If it does not match, the string length is +1 and the previous step is repeated    \n",
    "                position+=1   \n",
    "        hashtags_dic[temp_item] = list(reversed(max_match)) \n",
    "\n",
    "    return hashtags_dic\n",
    "    ###\n",
    "    # Your answer ENDS HERE\n",
    "    ###\n",
    "\n",
    "\n",
    "tokenized_hashtags = tokenize_hashtags(hashtags)\n",
    "\n",
    "# end_time = time()\n",
    "# run_time = end_time-begin_time\n",
    "# print ('run_time：',run_time) \n",
    "\n",
    "print(list(tokenized_hashtags.items())[:20])"
   ]
  },
  {
   "cell_type": "markdown",
   "metadata": {},
   "source": [
    "**For your testing:**"
   ]
  },
  {
   "cell_type": "code",
   "execution_count": 12,
   "metadata": {},
   "outputs": [],
   "source": [
    "assert(len(tokenized_hashtags) == len(hashtags))"
   ]
  },
  {
   "cell_type": "markdown",
   "metadata": {},
   "source": [
    "### Question 4 (1.0 mark)\n",
    "\n",
    "**Instructions**: Now that we have the tokenized hashtags, we need to go back and update the bag-of-words representation for each event.\n",
    "\n",
    "**Task**: Complete the ``update_event_bow(events)`` function. The function takes **a list of preprocessed events**, and for each event, it looks for every hashtag it has and updates the bag-of-words dictionary with the tokenized hashtag tokens. Note: you do not need to delete the counts of the original hashtags when updating the bag-of-words (e.g., if a document has \"#speakup\":2 in its bag-of-words representation, you do not need to delete this hashtag and its counts)."
   ]
  },
  {
   "cell_type": "code",
   "execution_count": 10,
   "metadata": {},
   "outputs": [
    {
     "name": "stdout",
     "output_type": "stream",
     "text": [
      "Number of preprocessed rumour events = 500\n",
      "Number of preprocessed non-rumour events = 1000\n"
     ]
    }
   ],
   "source": [
    "def update_event_bow(events):\n",
    "    ###\n",
    "    # Your answer BEGINS HERE\n",
    "    ###\n",
    "    \n",
    "    \n",
    "    for number, event in enumerate(events):\n",
    "        temp_event = event.copy()\n",
    "        for word, frequency in temp_event.items():\n",
    "            if word.startswith(\"#\"):    \n",
    "                tokenized_hashtag = tokenized_hashtags[word]\n",
    "                for i in tokenized_hashtag:\n",
    "                    if i == '#':\n",
    "                        events[number][i] = 0\n",
    "                    events[number][i] += frequency\n",
    "                        \n",
    "                \n",
    "    return events\n",
    "    \n",
    "    ###\n",
    "    # Your answer ENDS HERE\n",
    "    ###\n",
    "            \n",
    "update_event_bow(preprocessed_rumour_events)\n",
    "update_event_bow(preprocessed_nonrumour_events)\n",
    "\n",
    "print(\"Number of preprocessed rumour events =\", len(preprocessed_rumour_events))\n",
    "print(\"Number of preprocessed non-rumour events =\", len(preprocessed_nonrumour_events))"
   ]
  },
  {
   "cell_type": "markdown",
   "metadata": {},
   "source": [
    "# Text Classification (4 marks)"
   ]
  },
  {
   "cell_type": "markdown",
   "metadata": {},
   "source": [
    "### Question 5 (1.0 mark)\n",
    "\n",
    "**Instructions**: Here we are interested to do text classification, to predict, given a tweet and its reactions, whether it is a rumour or not. The task here is to create training, development and test partitions from the preprocessed events and convert the bag-of-words representation into feature vectors.\n",
    "\n",
    "**Task**: Using scikit-learn, create training, development and test partitions with a 60%/20%/20% ratio. Remember to preserve the ratio of rumour/non-rumour events for all your partitions. Next, turn the bag-of-words dictionary of each event into a feature vector, using scikit-learn `DictVectorizer`."
   ]
  },
  {
   "cell_type": "code",
   "execution_count": 13,
   "metadata": {},
   "outputs": [
    {
     "name": "stdout",
     "output_type": "stream",
     "text": [
      "Vocabulary size = 27879\n"
     ]
    }
   ],
   "source": [
    "from sklearn.feature_extraction import DictVectorizer\n",
    "from sklearn.model_selection import train_test_split\n",
    "vectorizer = DictVectorizer()\n",
    "\n",
    "###\n",
    "# Your answer BEGINS HERE\n",
    "###\n",
    "\n",
    "#Mark all rumors as 1\n",
    "data_rumour_y = [1 for i in range(len(preprocessed_rumour_events))]\n",
    "#Mark all nonrumour as 0\n",
    "data_nonrumour_y = [0 for i in range(len(preprocessed_nonrumour_events))]\n",
    "\n",
    "#Merge rumor and non-rumor data\n",
    "data_x = preprocessed_rumour_events + preprocessed_nonrumour_events\n",
    "data_y = data_rumour_y+data_nonrumour_y\n",
    "\n",
    "#Divide the test set by 20%\n",
    "xtrain_and_xdev,xtest,ytrain_and_xdev,ytest=train_test_split(data_x,data_y,test_size=0.2,stratify=data_y)\n",
    "#Divide the remaining data into training sets and validation sets\n",
    "xtrain,xdev,ytrain,ydev=train_test_split(xtrain_and_xdev,ytrain_and_xdev,test_size=0.25,stratify=ytrain_and_xdev)\n",
    "\n",
    "\n",
    "xtrain = vectorizer.fit_transform(xtrain)\n",
    "xdev = vectorizer.transform(xdev)\n",
    "xtest = vectorizer.transform(xtest)\n",
    "\n",
    "    \n",
    "###\n",
    "# Your answer ENDS HERE\n",
    "###\n",
    "\n",
    "#If all the data were used to fit, the result would be 39703\n",
    "print(\"Vocabulary size =\", len(vectorizer.vocabulary_))"
   ]
  },
  {
   "cell_type": "markdown",
   "metadata": {},
   "source": [
    "### Question 6 (2.0 mark)\n",
    "\n",
    "**Instructions**: Now, let's build some classifiers. Here, we'll be comparing Naive Bayes and Logistic Regression. For each, you need to first find a good value for their main regularisation (hyper)parameters, which you should identify using the scikit-learn docs or other resources. Use the development set you created for this tuning process; do **not** use cross-validation in the training set, or involve the test set in any way. You don't need to show all your work, but you do need to print out the accuracy with enough different settings to strongly suggest you have found an optimal or near-optimal choice. We should not need to look at your code to interpret the output.\n",
    "\n",
    "**Task**: Implement two text classifiers: Naive Bayes and Logistic Regression. Tune the hyper-parameters of these classifiers and print the task performance for different hyper-parameter settings."
   ]
  },
  {
   "cell_type": "code",
   "execution_count": 14,
   "metadata": {},
   "outputs": [
    {
     "name": "stdout",
     "output_type": "stream",
     "text": [
      "LR_best_estimator_ LogisticRegression(C=0.3216080402010051, class_weight=None, dual=False,\n",
      "                   fit_intercept=True, intercept_scaling=1, l1_ratio=None,\n",
      "                   max_iter=500, multi_class='auto', n_jobs=None, penalty='l2',\n",
      "                   random_state=None, solver='lbfgs', tol=0.0001, verbose=0,\n",
      "                   warm_start=False)\n",
      "\n",
      "LR_best_score 0.82\n",
      "\n",
      "LR_params [{'C': 0.1, 'max_iter': 500}, {'C': 0.12462311557788945, 'max_iter': 500}, {'C': 0.1492462311557789, 'max_iter': 500}, {'C': 0.17386934673366836, 'max_iter': 500}, {'C': 0.19849246231155782, 'max_iter': 500}, {'C': 0.22311557788944725, 'max_iter': 500}, {'C': 0.2477386934673367, 'max_iter': 500}, {'C': 0.2723618090452261, 'max_iter': 500}, {'C': 0.2969849246231156, 'max_iter': 500}, {'C': 0.3216080402010051, 'max_iter': 500}, {'C': 0.3462311557788945, 'max_iter': 500}, {'C': 0.37085427135678395, 'max_iter': 500}, {'C': 0.3954773869346734, 'max_iter': 500}, {'C': 0.4201005025125628, 'max_iter': 500}, {'C': 0.44472361809045224, 'max_iter': 500}, {'C': 0.4693467336683418, 'max_iter': 500}, {'C': 0.4939698492462312, 'max_iter': 500}, {'C': 0.5185929648241207, 'max_iter': 500}, {'C': 0.5432160804020101, 'max_iter': 500}, {'C': 0.5678391959798995, 'max_iter': 500}, {'C': 0.592462311557789, 'max_iter': 500}, {'C': 0.6170854271356784, 'max_iter': 500}, {'C': 0.6417085427135678, 'max_iter': 500}, {'C': 0.6663316582914574, 'max_iter': 500}, {'C': 0.6909547738693468, 'max_iter': 500}, {'C': 0.7155778894472362, 'max_iter': 500}, {'C': 0.7402010050251256, 'max_iter': 500}, {'C': 0.7648241206030151, 'max_iter': 500}, {'C': 0.7894472361809045, 'max_iter': 500}, {'C': 0.814070351758794, 'max_iter': 500}, {'C': 0.8386934673366835, 'max_iter': 500}, {'C': 0.8633165829145729, 'max_iter': 500}, {'C': 0.8879396984924623, 'max_iter': 500}, {'C': 0.9125628140703518, 'max_iter': 500}, {'C': 0.9371859296482412, 'max_iter': 500}, {'C': 0.9618090452261306, 'max_iter': 500}, {'C': 0.9864321608040202, 'max_iter': 500}, {'C': 1.0110552763819096, 'max_iter': 500}, {'C': 1.0356783919597992, 'max_iter': 500}, {'C': 1.0603015075376885, 'max_iter': 500}, {'C': 1.084924623115578, 'max_iter': 500}, {'C': 1.1095477386934676, 'max_iter': 500}, {'C': 1.1341708542713569, 'max_iter': 500}, {'C': 1.1587939698492464, 'max_iter': 500}, {'C': 1.1834170854271358, 'max_iter': 500}, {'C': 1.2080402010050253, 'max_iter': 500}, {'C': 1.2326633165829148, 'max_iter': 500}, {'C': 1.2572864321608042, 'max_iter': 500}, {'C': 1.2819095477386937, 'max_iter': 500}, {'C': 1.306532663316583, 'max_iter': 500}, {'C': 1.3311557788944726, 'max_iter': 500}, {'C': 1.3557788944723619, 'max_iter': 500}, {'C': 1.3804020100502514, 'max_iter': 500}, {'C': 1.405025125628141, 'max_iter': 500}, {'C': 1.4296482412060303, 'max_iter': 500}, {'C': 1.4542713567839198, 'max_iter': 500}, {'C': 1.4788944723618092, 'max_iter': 500}, {'C': 1.5035175879396987, 'max_iter': 500}, {'C': 1.5281407035175882, 'max_iter': 500}, {'C': 1.5527638190954776, 'max_iter': 500}, {'C': 1.577386934673367, 'max_iter': 500}, {'C': 1.6020100502512564, 'max_iter': 500}, {'C': 1.626633165829146, 'max_iter': 500}, {'C': 1.6512562814070353, 'max_iter': 500}, {'C': 1.6758793969849248, 'max_iter': 500}, {'C': 1.7005025125628144, 'max_iter': 500}, {'C': 1.7251256281407037, 'max_iter': 500}, {'C': 1.7497487437185932, 'max_iter': 500}, {'C': 1.7743718592964826, 'max_iter': 500}, {'C': 1.798994974874372, 'max_iter': 500}, {'C': 1.8236180904522614, 'max_iter': 500}, {'C': 1.848241206030151, 'max_iter': 500}, {'C': 1.8728643216080405, 'max_iter': 500}, {'C': 1.8974874371859298, 'max_iter': 500}, {'C': 1.9221105527638194, 'max_iter': 500}, {'C': 1.9467336683417087, 'max_iter': 500}, {'C': 1.9713567839195982, 'max_iter': 500}, {'C': 1.9959798994974878, 'max_iter': 500}, {'C': 2.020603015075377, 'max_iter': 500}, {'C': 2.0452261306532664, 'max_iter': 500}, {'C': 2.069849246231156, 'max_iter': 500}, {'C': 2.0944723618090455, 'max_iter': 500}, {'C': 2.119095477386935, 'max_iter': 500}, {'C': 2.143718592964824, 'max_iter': 500}, {'C': 2.1683417085427137, 'max_iter': 500}, {'C': 2.1929648241206032, 'max_iter': 500}, {'C': 2.2175879396984928, 'max_iter': 500}, {'C': 2.2422110552763823, 'max_iter': 500}, {'C': 2.2668341708542714, 'max_iter': 500}, {'C': 2.291457286432161, 'max_iter': 500}, {'C': 2.3160804020100505, 'max_iter': 500}, {'C': 2.34070351758794, 'max_iter': 500}, {'C': 2.3653266331658296, 'max_iter': 500}, {'C': 2.3899497487437187, 'max_iter': 500}, {'C': 2.4145728643216082, 'max_iter': 500}, {'C': 2.4391959798994978, 'max_iter': 500}, {'C': 2.4638190954773873, 'max_iter': 500}, {'C': 2.488442211055277, 'max_iter': 500}, {'C': 2.513065326633166, 'max_iter': 500}, {'C': 2.5376884422110555, 'max_iter': 500}, {'C': 2.562311557788945, 'max_iter': 500}, {'C': 2.5869346733668346, 'max_iter': 500}, {'C': 2.6115577889447237, 'max_iter': 500}, {'C': 2.636180904522613, 'max_iter': 500}, {'C': 2.6608040201005028, 'max_iter': 500}, {'C': 2.6854271356783923, 'max_iter': 500}, {'C': 2.710050251256282, 'max_iter': 500}, {'C': 2.734673366834171, 'max_iter': 500}, {'C': 2.7592964824120605, 'max_iter': 500}, {'C': 2.78391959798995, 'max_iter': 500}, {'C': 2.8085427135678396, 'max_iter': 500}, {'C': 2.833165829145729, 'max_iter': 500}, {'C': 2.857788944723618, 'max_iter': 500}, {'C': 2.8824120603015078, 'max_iter': 500}, {'C': 2.9070351758793973, 'max_iter': 500}, {'C': 2.931658291457287, 'max_iter': 500}, {'C': 2.9562814070351764, 'max_iter': 500}, {'C': 2.9809045226130655, 'max_iter': 500}, {'C': 3.005527638190955, 'max_iter': 500}, {'C': 3.0301507537688446, 'max_iter': 500}, {'C': 3.054773869346734, 'max_iter': 500}, {'C': 3.079396984924623, 'max_iter': 500}, {'C': 3.1040201005025128, 'max_iter': 500}, {'C': 3.1286432160804023, 'max_iter': 500}, {'C': 3.153266331658292, 'max_iter': 500}, {'C': 3.1778894472361814, 'max_iter': 500}, {'C': 3.2025125628140705, 'max_iter': 500}, {'C': 3.22713567839196, 'max_iter': 500}, {'C': 3.2517587939698496, 'max_iter': 500}, {'C': 3.276381909547739, 'max_iter': 500}, {'C': 3.3010050251256287, 'max_iter': 500}, {'C': 3.3256281407035178, 'max_iter': 500}, {'C': 3.3502512562814073, 'max_iter': 500}, {'C': 3.374874371859297, 'max_iter': 500}, {'C': 3.3994974874371864, 'max_iter': 500}, {'C': 3.424120603015076, 'max_iter': 500}, {'C': 3.448743718592965, 'max_iter': 500}, {'C': 3.4733668341708546, 'max_iter': 500}, {'C': 3.497989949748744, 'max_iter': 500}, {'C': 3.5226130653266337, 'max_iter': 500}, {'C': 3.5472361809045228, 'max_iter': 500}, {'C': 3.5718592964824123, 'max_iter': 500}, {'C': 3.596482412060302, 'max_iter': 500}, {'C': 3.6211055276381914, 'max_iter': 500}, {'C': 3.645728643216081, 'max_iter': 500}, {'C': 3.67035175879397, 'max_iter': 500}, {'C': 3.6949748743718596, 'max_iter': 500}, {'C': 3.719597989949749, 'max_iter': 500}, {'C': 3.7442211055276386, 'max_iter': 500}, {'C': 3.768844221105528, 'max_iter': 500}, {'C': 3.7934673366834173, 'max_iter': 500}, {'C': 3.818090452261307, 'max_iter': 500}, {'C': 3.8427135678391964, 'max_iter': 500}, {'C': 3.867336683417086, 'max_iter': 500}, {'C': 3.8919597989949755, 'max_iter': 500}, {'C': 3.9165829145728646, 'max_iter': 500}, {'C': 3.941206030150754, 'max_iter': 500}, {'C': 3.9658291457286436, 'max_iter': 500}, {'C': 3.990452261306533, 'max_iter': 500}, {'C': 4.015075376884422, 'max_iter': 500}, {'C': 4.039698492462311, 'max_iter': 500}, {'C': 4.064321608040201, 'max_iter': 500}, {'C': 4.0889447236180905, 'max_iter': 500}, {'C': 4.11356783919598, 'max_iter': 500}, {'C': 4.13819095477387, 'max_iter': 500}, {'C': 4.162814070351759, 'max_iter': 500}, {'C': 4.187437185929648, 'max_iter': 500}, {'C': 4.212060301507537, 'max_iter': 500}, {'C': 4.236683417085427, 'max_iter': 500}, {'C': 4.261306532663316, 'max_iter': 500}, {'C': 4.285929648241206, 'max_iter': 500}, {'C': 4.3105527638190955, 'max_iter': 500}, {'C': 4.335175879396985, 'max_iter': 500}, {'C': 4.3597989949748746, 'max_iter': 500}, {'C': 4.384422110552764, 'max_iter': 500}, {'C': 4.409045226130654, 'max_iter': 500}, {'C': 4.433668341708542, 'max_iter': 500}, {'C': 4.458291457286432, 'max_iter': 500}, {'C': 4.482914572864321, 'max_iter': 500}, {'C': 4.507537688442211, 'max_iter': 500}, {'C': 4.5321608040201005, 'max_iter': 500}, {'C': 4.55678391959799, 'max_iter': 500}, {'C': 4.5814070351758795, 'max_iter': 500}, {'C': 4.606030150753769, 'max_iter': 500}, {'C': 4.630653266331659, 'max_iter': 500}, {'C': 4.655276381909547, 'max_iter': 500}, {'C': 4.679899497487437, 'max_iter': 500}, {'C': 4.704522613065326, 'max_iter': 500}, {'C': 4.729145728643216, 'max_iter': 500}, {'C': 4.7537688442211055, 'max_iter': 500}, {'C': 4.778391959798995, 'max_iter': 500}, {'C': 4.8030150753768845, 'max_iter': 500}, {'C': 4.827638190954774, 'max_iter': 500}, {'C': 4.852261306532664, 'max_iter': 500}, {'C': 4.876884422110553, 'max_iter': 500}, {'C': 4.901507537688442, 'max_iter': 500}, {'C': 4.926130653266331, 'max_iter': 500}, {'C': 4.950753768844221, 'max_iter': 500}, {'C': 4.9753768844221105, 'max_iter': 500}, {'C': 5.0, 'max_iter': 500}]\n",
      "\n",
      "LR_test_score [0.81666667 0.81666667 0.81666667 0.80666667 0.80666667 0.81333333\n",
      " 0.81666667 0.81666667 0.81666667 0.82       0.81666667 0.81666667\n",
      " 0.81666667 0.81666667 0.82       0.82       0.82       0.82\n",
      " 0.82       0.82       0.81333333 0.81333333 0.81       0.81\n",
      " 0.81       0.81       0.81       0.81       0.81       0.81\n",
      " 0.80666667 0.80666667 0.80333333 0.8        0.8        0.8\n",
      " 0.8        0.8        0.79666667 0.79666667 0.79666667 0.79666667\n",
      " 0.79666667 0.79666667 0.79666667 0.79666667 0.79333333 0.79333333\n",
      " 0.79       0.79       0.79       0.79       0.79       0.79\n",
      " 0.79       0.79       0.79       0.79       0.79       0.79\n",
      " 0.79       0.79       0.79       0.79       0.79       0.79\n",
      " 0.79       0.79       0.79       0.79       0.79       0.79\n",
      " 0.79       0.79       0.79       0.79       0.79       0.79\n",
      " 0.79333333 0.79333333 0.79333333 0.79333333 0.79333333 0.79333333\n",
      " 0.79333333 0.79333333 0.79333333 0.79333333 0.79333333 0.79333333\n",
      " 0.79333333 0.79333333 0.79333333 0.79333333 0.79333333 0.79333333\n",
      " 0.79333333 0.79333333 0.79333333 0.79333333 0.79333333 0.79333333\n",
      " 0.79333333 0.79333333 0.79333333 0.79333333 0.79333333 0.79333333\n",
      " 0.79333333 0.79333333 0.79333333 0.79333333 0.79333333 0.79333333\n",
      " 0.79333333 0.79333333 0.79333333 0.79333333 0.79333333 0.79333333\n",
      " 0.79333333 0.79333333 0.79333333 0.79333333 0.79333333 0.79333333\n",
      " 0.79333333 0.79333333 0.79333333 0.79333333 0.79333333 0.79333333\n",
      " 0.79333333 0.79333333 0.79333333 0.79333333 0.79       0.79\n",
      " 0.79       0.79       0.79       0.79       0.79       0.79\n",
      " 0.79       0.79       0.79       0.79       0.79       0.79\n",
      " 0.79       0.79       0.79       0.79       0.79       0.79\n",
      " 0.79       0.79       0.79       0.79       0.79       0.79\n",
      " 0.79       0.79       0.79       0.79       0.79       0.79\n",
      " 0.79       0.79       0.78666667 0.78666667 0.78666667 0.78666667\n",
      " 0.78666667 0.78666667 0.78666667 0.78666667 0.78333333 0.78333333\n",
      " 0.78333333 0.78333333 0.78333333 0.78333333 0.78333333 0.78333333\n",
      " 0.78333333 0.78333333 0.78333333 0.78333333 0.78333333 0.78333333\n",
      " 0.78333333 0.78333333 0.78333333 0.78333333 0.78333333 0.78333333\n",
      " 0.78333333 0.78333333]\n",
      "\n",
      "________________________________________________________________________\n",
      "\n",
      "NB_best_estimator_ MultinomialNB(alpha=1.256281407035176, class_prior=None, fit_prior=True)\n",
      "\n",
      "NB_best_score 0.8433333333333334\n",
      "\n",
      "NB_params [{'alpha': 0.0}, {'alpha': 0.02512562814070352}, {'alpha': 0.05025125628140704}, {'alpha': 0.07537688442211056}, {'alpha': 0.10050251256281408}, {'alpha': 0.1256281407035176}, {'alpha': 0.15075376884422112}, {'alpha': 0.17587939698492464}, {'alpha': 0.20100502512562815}, {'alpha': 0.22613065326633167}, {'alpha': 0.2512562814070352}, {'alpha': 0.2763819095477387}, {'alpha': 0.30150753768844224}, {'alpha': 0.32663316582914576}, {'alpha': 0.35175879396984927}, {'alpha': 0.3768844221105528}, {'alpha': 0.4020100502512563}, {'alpha': 0.4271356783919598}, {'alpha': 0.45226130653266333}, {'alpha': 0.47738693467336685}, {'alpha': 0.5025125628140704}, {'alpha': 0.5276381909547739}, {'alpha': 0.5527638190954774}, {'alpha': 0.577889447236181}, {'alpha': 0.6030150753768845}, {'alpha': 0.628140703517588}, {'alpha': 0.6532663316582915}, {'alpha': 0.678391959798995}, {'alpha': 0.7035175879396985}, {'alpha': 0.7286432160804021}, {'alpha': 0.7537688442211056}, {'alpha': 0.7788944723618091}, {'alpha': 0.8040201005025126}, {'alpha': 0.8291457286432161}, {'alpha': 0.8542713567839196}, {'alpha': 0.8793969849246231}, {'alpha': 0.9045226130653267}, {'alpha': 0.9296482412060302}, {'alpha': 0.9547738693467337}, {'alpha': 0.9798994974874372}, {'alpha': 1.0050251256281408}, {'alpha': 1.0301507537688444}, {'alpha': 1.0552763819095479}, {'alpha': 1.0804020100502514}, {'alpha': 1.105527638190955}, {'alpha': 1.1306532663316584}, {'alpha': 1.155778894472362}, {'alpha': 1.1809045226130654}, {'alpha': 1.206030150753769}, {'alpha': 1.2311557788944725}, {'alpha': 1.256281407035176}, {'alpha': 1.2814070351758795}, {'alpha': 1.306532663316583}, {'alpha': 1.3316582914572865}, {'alpha': 1.35678391959799}, {'alpha': 1.3819095477386936}, {'alpha': 1.407035175879397}, {'alpha': 1.4321608040201006}, {'alpha': 1.4572864321608041}, {'alpha': 1.4824120603015076}, {'alpha': 1.5075376884422111}, {'alpha': 1.5326633165829147}, {'alpha': 1.5577889447236182}, {'alpha': 1.5829145728643217}, {'alpha': 1.6080402010050252}, {'alpha': 1.6331658291457287}, {'alpha': 1.6582914572864322}, {'alpha': 1.6834170854271358}, {'alpha': 1.7085427135678393}, {'alpha': 1.7336683417085428}, {'alpha': 1.7587939698492463}, {'alpha': 1.7839195979899498}, {'alpha': 1.8090452261306533}, {'alpha': 1.8341708542713568}, {'alpha': 1.8592964824120604}, {'alpha': 1.8844221105527639}, {'alpha': 1.9095477386934674}, {'alpha': 1.934673366834171}, {'alpha': 1.9597989949748744}, {'alpha': 1.984924623115578}, {'alpha': 2.0100502512562817}, {'alpha': 2.035175879396985}, {'alpha': 2.0603015075376887}, {'alpha': 2.085427135678392}, {'alpha': 2.1105527638190957}, {'alpha': 2.1356783919597992}, {'alpha': 2.1608040201005028}, {'alpha': 2.1859296482412063}, {'alpha': 2.21105527638191}, {'alpha': 2.2361809045226133}, {'alpha': 2.261306532663317}, {'alpha': 2.2864321608040203}, {'alpha': 2.311557788944724}, {'alpha': 2.3366834170854274}, {'alpha': 2.361809045226131}, {'alpha': 2.3869346733668344}, {'alpha': 2.412060301507538}, {'alpha': 2.4371859296482414}, {'alpha': 2.462311557788945}, {'alpha': 2.4874371859296485}, {'alpha': 2.512562814070352}, {'alpha': 2.5376884422110555}, {'alpha': 2.562814070351759}, {'alpha': 2.5879396984924625}, {'alpha': 2.613065326633166}, {'alpha': 2.6381909547738696}, {'alpha': 2.663316582914573}, {'alpha': 2.6884422110552766}, {'alpha': 2.71356783919598}, {'alpha': 2.7386934673366836}, {'alpha': 2.763819095477387}, {'alpha': 2.7889447236180906}, {'alpha': 2.814070351758794}, {'alpha': 2.8391959798994977}, {'alpha': 2.864321608040201}, {'alpha': 2.8894472361809047}, {'alpha': 2.9145728643216082}, {'alpha': 2.9396984924623117}, {'alpha': 2.9648241206030153}, {'alpha': 2.9899497487437188}, {'alpha': 3.0150753768844223}, {'alpha': 3.040201005025126}, {'alpha': 3.0653266331658293}, {'alpha': 3.090452261306533}, {'alpha': 3.1155778894472363}, {'alpha': 3.14070351758794}, {'alpha': 3.1658291457286434}, {'alpha': 3.190954773869347}, {'alpha': 3.2160804020100504}, {'alpha': 3.241206030150754}, {'alpha': 3.2663316582914574}, {'alpha': 3.291457286432161}, {'alpha': 3.3165829145728645}, {'alpha': 3.341708542713568}, {'alpha': 3.3668341708542715}, {'alpha': 3.391959798994975}, {'alpha': 3.4170854271356785}, {'alpha': 3.442211055276382}, {'alpha': 3.4673366834170856}, {'alpha': 3.492462311557789}, {'alpha': 3.5175879396984926}, {'alpha': 3.542713567839196}, {'alpha': 3.5678391959798996}, {'alpha': 3.592964824120603}, {'alpha': 3.6180904522613067}, {'alpha': 3.64321608040201}, {'alpha': 3.6683417085427137}, {'alpha': 3.693467336683417}, {'alpha': 3.7185929648241207}, {'alpha': 3.7437185929648242}, {'alpha': 3.7688442211055277}, {'alpha': 3.7939698492462313}, {'alpha': 3.819095477386935}, {'alpha': 3.8442211055276383}, {'alpha': 3.869346733668342}, {'alpha': 3.8944723618090453}, {'alpha': 3.919597989949749}, {'alpha': 3.9447236180904524}, {'alpha': 3.969849246231156}, {'alpha': 3.9949748743718594}, {'alpha': 4.020100502512563}, {'alpha': 4.045226130653266}, {'alpha': 4.07035175879397}, {'alpha': 4.0954773869346734}, {'alpha': 4.120603015075377}, {'alpha': 4.1457286432160805}, {'alpha': 4.170854271356784}, {'alpha': 4.1959798994974875}, {'alpha': 4.2211055276381915}, {'alpha': 4.2462311557788945}, {'alpha': 4.2713567839195985}, {'alpha': 4.296482412060302}, {'alpha': 4.3216080402010055}, {'alpha': 4.346733668341709}, {'alpha': 4.371859296482413}, {'alpha': 4.396984924623116}, {'alpha': 4.42211055276382}, {'alpha': 4.447236180904523}, {'alpha': 4.472361809045227}, {'alpha': 4.49748743718593}, {'alpha': 4.522613065326634}, {'alpha': 4.547738693467337}, {'alpha': 4.572864321608041}, {'alpha': 4.597989949748744}, {'alpha': 4.623115577889448}, {'alpha': 4.648241206030151}, {'alpha': 4.673366834170855}, {'alpha': 4.698492462311558}, {'alpha': 4.723618090452262}, {'alpha': 4.748743718592965}, {'alpha': 4.773869346733669}, {'alpha': 4.798994974874372}, {'alpha': 4.824120603015076}, {'alpha': 4.849246231155779}, {'alpha': 4.874371859296483}, {'alpha': 4.899497487437186}, {'alpha': 4.92462311557789}, {'alpha': 4.949748743718593}, {'alpha': 4.974874371859297}, {'alpha': 5.0}]\n",
      "\n",
      "NB_test_score [0.78333333 0.83333333 0.83666667 0.84       0.82666667 0.82\n",
      " 0.81333333 0.81       0.81       0.81333333 0.81333333 0.82\n",
      " 0.82       0.82       0.82       0.82       0.82       0.81666667\n",
      " 0.81666667 0.81666667 0.81666667 0.81333333 0.81666667 0.82\n",
      " 0.82333333 0.82333333 0.82666667 0.82666667 0.82666667 0.82666667\n",
      " 0.82666667 0.82666667 0.83       0.83       0.83       0.83333333\n",
      " 0.83333333 0.83666667 0.83666667 0.84       0.83666667 0.83333333\n",
      " 0.84       0.83333333 0.83       0.83       0.83333333 0.83666667\n",
      " 0.84       0.84       0.84333333 0.84333333 0.83666667 0.82333333\n",
      " 0.82       0.82       0.82       0.82       0.82       0.82\n",
      " 0.81666667 0.81333333 0.81333333 0.81333333 0.81       0.81\n",
      " 0.81       0.81       0.81       0.81333333 0.81       0.81\n",
      " 0.80666667 0.80333333 0.80333333 0.8        0.80333333 0.80333333\n",
      " 0.80333333 0.80333333 0.80333333 0.8        0.8        0.79666667\n",
      " 0.79666667 0.79666667 0.8        0.8        0.8        0.8\n",
      " 0.8        0.8        0.8        0.79666667 0.79666667 0.79666667\n",
      " 0.79666667 0.79333333 0.79333333 0.79       0.79       0.79\n",
      " 0.79333333 0.79333333 0.79333333 0.79333333 0.79333333 0.79333333\n",
      " 0.78666667 0.78666667 0.78666667 0.78666667 0.78666667 0.78333333\n",
      " 0.78333333 0.78333333 0.78333333 0.78333333 0.78333333 0.78333333\n",
      " 0.78333333 0.78       0.78       0.78       0.77666667 0.77666667\n",
      " 0.77333333 0.77333333 0.77       0.77333333 0.77333333 0.77333333\n",
      " 0.77333333 0.77333333 0.77       0.77       0.77       0.77\n",
      " 0.77       0.77333333 0.77       0.77       0.76666667 0.76666667\n",
      " 0.76666667 0.76666667 0.76666667 0.76666667 0.76666667 0.76666667\n",
      " 0.76666667 0.76666667 0.76666667 0.76666667 0.76666667 0.76666667\n",
      " 0.76666667 0.76666667 0.77       0.77       0.76666667 0.76666667\n",
      " 0.76666667 0.76666667 0.76333333 0.76333333 0.76333333 0.76333333\n",
      " 0.76333333 0.76333333 0.75666667 0.76       0.76       0.76\n",
      " 0.76       0.76       0.76       0.76       0.76       0.76\n",
      " 0.76       0.76       0.76       0.75666667 0.75333333 0.75333333\n",
      " 0.74666667 0.74333333 0.74333333 0.74333333 0.74       0.74\n",
      " 0.74       0.74       0.74       0.74       0.74333333 0.74333333\n",
      " 0.74333333 0.74333333]\n",
      "\n"
     ]
    }
   ],
   "source": [
    "from sklearn.naive_bayes import MultinomialNB\n",
    "from sklearn.linear_model import LogisticRegression\n",
    "\n",
    "\n",
    "import numpy as np\n",
    "from sklearn.model_selection  import GridSearchCV\n",
    "from sklearn.model_selection import PredefinedSplit\n",
    "\n",
    "from scipy.sparse import  vstack\n",
    "###\n",
    "# Your answer BEGINS HERE\n",
    "###\n",
    "\n",
    "#Define model\n",
    "NB = MultinomialNB()\n",
    "LR = LogisticRegression()\n",
    "\n",
    "#handle data，merge training set and validation set\n",
    "combine_xtrain = vstack((xtrain,xdev))\n",
    "combine_ytrain = ytrain+ydev\n",
    "\n",
    "#Initialize all index to 0,0 to represent the first round of the validation set\n",
    "test_fold = np.zeros(combine_xtrain.shape[0])  \n",
    "\n",
    "#Set the corresponding index of the training set to -1, indicating that it will never be divided into the verification set\n",
    "test_fold[:xtrain.shape[0]] = -1    \n",
    "\n",
    "#Provides train/dev indices to split data into train/dev sets\n",
    "ps = PredefinedSplit(test_fold=test_fold)  \n",
    "\n",
    "#Set the parameters to be searched by linear regression\n",
    "LR_param_grid = [\n",
    "  {'C': np.linspace(0.1, 5, 200),\"max_iter\":[500] }\n",
    " ]\n",
    "\n",
    "#use GridSearchCV to find the best param, cross-validation was not used because the training set and validation set were fixed\n",
    "#Initialize the GridSearch\n",
    "LR_grid_search = GridSearchCV(LR,LR_param_grid,n_jobs=-1,cv=ps,scoring='accuracy')\n",
    "LR_grid_search.fit(combine_xtrain, combine_ytrain)\n",
    "\n",
    "\n",
    "#Set the parameters to be searched by MultinomialNB\n",
    "NB_param_grid = [\n",
    "  {'alpha': np.linspace(0, 5, 200)}\n",
    " ]\n",
    "NB_grid_search = GridSearchCV(NB,NB_param_grid,n_jobs=-1,cv=ps,scoring='accuracy')\n",
    "NB_grid_search.fit(combine_xtrain, combine_ytrain)\n",
    "\n",
    "\n",
    "\n",
    "\n",
    "print(\"LR_best_estimator_\",LR_grid_search.best_estimator_)\n",
    "print()\n",
    "print(\"LR_best_score\",LR_grid_search.best_score_)\n",
    "print()\n",
    "print(\"LR_params\",LR_grid_search.cv_results_[\"params\"])\n",
    "print()\n",
    "print(\"LR_test_score\",LR_grid_search.cv_results_[\"split0_test_score\"])\n",
    "print()\n",
    "\n",
    "print(\"________________________________________________________________________\")\n",
    "print()\n",
    "print(\"NB_best_estimator_\",NB_grid_search.best_estimator_)\n",
    "print()\n",
    "print(\"NB_best_score\",NB_grid_search.best_score_)\n",
    "print()\n",
    "print(\"NB_params\",NB_grid_search.cv_results_[\"params\"])\n",
    "print()\n",
    "print(\"NB_test_score\",NB_grid_search.cv_results_[\"split0_test_score\"])\n",
    "print()\n",
    "\n",
    "\n",
    "\n",
    "    \n",
    "    \n",
    "###\n",
    "# Your answer ENDS HERE\n",
    "###"
   ]
  },
  {
   "cell_type": "code",
   "execution_count": 15,
   "metadata": {},
   "outputs": [
    {
     "name": "stdout",
     "output_type": "stream",
     "text": [
      "NB_best_estimator_ MultinomialNB(alpha=1.256281407035176, class_prior=None, fit_prior=True)\n",
      "\n",
      "NB_best_score 0.8433333333333334\n"
     ]
    },
    {
     "data": {
      "image/png": "[encoded data removed]",
      "text/plain": [
       "<Figure size 432x288 with 1 Axes>"
      ]
     },
     "metadata": {
      "needs_background": "light"
     },
     "output_type": "display_data"
    }
   ],
   "source": [
    "#draw\n",
    "import matplotlib.pyplot as plt\n",
    "x = [alpha['alpha']  for alpha in NB_grid_search.cv_results_[\"params\"]]\n",
    "y = [ score for score in NB_grid_search.cv_results_[\"split0_test_score\"] ]\n",
    "plt.figure()\n",
    "plt.plot(x,y)\n",
    "plt.xlabel('Params-Alpha')\n",
    "plt.ylabel('Accuracy')\n",
    "plt.title('MultinomialNB')\n",
    "\n",
    "print(\"NB_best_estimator_\",NB_grid_search.best_estimator_)\n",
    "print()\n",
    "print(\"NB_best_score\",NB_grid_search.best_score_)"
   ]
  },
  {
   "cell_type": "code",
   "execution_count": 16,
   "metadata": {},
   "outputs": [
    {
     "name": "stdout",
     "output_type": "stream",
     "text": [
      "LR_best_estimator_ LogisticRegression(C=0.3216080402010051, class_weight=None, dual=False,\n",
      "                   fit_intercept=True, intercept_scaling=1, l1_ratio=None,\n",
      "                   max_iter=500, multi_class='auto', n_jobs=None, penalty='l2',\n",
      "                   random_state=None, solver='lbfgs', tol=0.0001, verbose=0,\n",
      "                   warm_start=False)\n",
      "\n",
      "LR_best_score 0.82\n"
     ]
    },
    {
     "data": {
      "image/png": "[encoded data removed]",
      "text/plain": [
       "<Figure size 432x288 with 1 Axes>"
      ]
     },
     "metadata": {
      "needs_background": "light"
     },
     "output_type": "display_data"
    }
   ],
   "source": [
    "import matplotlib.pyplot as plt\n",
    "x = [C['C']  for C in LR_grid_search.cv_results_[\"params\"]]\n",
    "y = [ score for score in LR_grid_search.cv_results_[\"split0_test_score\"] ]\n",
    "plt.figure()\n",
    "plt.plot(x,y)\n",
    "plt.xlabel('Params-C')\n",
    "plt.ylabel('Accuracy')\n",
    "plt.title('LogisticRegression')\n",
    "\n",
    "\n",
    "print(\"LR_best_estimator_\",LR_grid_search.best_estimator_)\n",
    "print()\n",
    "print(\"LR_best_score\",LR_grid_search.best_score_)"
   ]
  },
  {
   "cell_type": "markdown",
   "metadata": {},
   "source": [
    "### Question 7 (1.0 mark)\n",
    "\n",
    "**Instructions**: Using the best settings you have found, compare the two classifiers based on performance in the test set. Print out both accuracy and macro-averaged F-score for each classifier. Be sure to label your output.\n",
    "\n",
    "**Task**: Compute test performance in terms of accuracy and macro-averaged F-score for both Naive Bayes and Logistic Regression, using optimal hyper-parameter settings."
   ]
  },
  {
   "cell_type": "code",
   "execution_count": 17,
   "metadata": {},
   "outputs": [
    {
     "name": "stdout",
     "output_type": "stream",
     "text": [
      "LR_test_result:\n",
      "               precision    recall  f1-score   support\n",
      "\n",
      "           0       0.82      0.90      0.86       200\n",
      "           1       0.75      0.61      0.67       100\n",
      "\n",
      "    accuracy                           0.80       300\n",
      "   macro avg       0.79      0.76      0.77       300\n",
      "weighted avg       0.80      0.80      0.80       300\n",
      "\n",
      "NB_test_result:\n",
      "               precision    recall  f1-score   support\n",
      "\n",
      "           0       0.87      0.89      0.88       200\n",
      "           1       0.76      0.73      0.74       100\n",
      "\n",
      "    accuracy                           0.83       300\n",
      "   macro avg       0.81      0.81      0.81       300\n",
      "weighted avg       0.83      0.83      0.83       300\n",
      "\n"
     ]
    }
   ],
   "source": [
    "###\n",
    "# Your answer BEGINS HERE\n",
    "###\n",
    "from sklearn.metrics import confusion_matrix\n",
    "from sklearn.metrics import classification_report\n",
    "\n",
    "#Define the model using the best parameters\n",
    "NB_best_params = MultinomialNB(alpha=NB_grid_search.best_params_['alpha'])\n",
    "LR_best_params = LogisticRegression(C=LR_grid_search.best_params_['C'],max_iter=LR_grid_search.best_params_['max_iter'])\n",
    "\n",
    "#Use the training set to train the model\n",
    "LR_best_params.fit(combine_xtrain, combine_ytrain)\n",
    "NB_best_params.fit(combine_xtrain, combine_ytrain)\n",
    "\n",
    "#Using test sets to predict categories\n",
    "LR_y_pred = LR_best_params.predict(xtest)\n",
    "NB_y_pred = NB_best_params.predict(xtest)\n",
    "\n",
    "#Print the performance on the test sets\n",
    "print(\"LR_test_result:\\n\",classification_report(ytest, LR_y_pred))\n",
    "print(\"NB_test_result:\\n\",classification_report(ytest, NB_y_pred))\n",
    "\n",
    "\n",
    "    \n",
    "###\n",
    "# Your answer ENDS HERE\n",
    "###"
   ]
  },
  {
   "cell_type": "code",
   "execution_count": 84,
   "metadata": {},
   "outputs": [],
   "source": []
  },
  {
   "cell_type": "code",
   "execution_count": null,
   "metadata": {},
   "outputs": [],
   "source": []
  }
 ],
 "metadata": {
  "kernelspec": {
   "display_name": "Python 3",
   "language": "python",
   "name": "python3"
  },
  "language_info": {
   "codemirror_mode": {
    "name": "ipython",
    "version": 3
   },
   "file_extension": ".py",
   "mimetype": "text/x-python",
   "name": "python",
   "nbconvert_exporter": "python",
   "pygments_lexer": "ipython3",
   "version": "3.6.9"
  }
 },
 "nbformat": 4,
 "nbformat_minor": 2
}
